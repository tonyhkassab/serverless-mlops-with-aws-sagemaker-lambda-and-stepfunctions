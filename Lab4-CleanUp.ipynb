{
 "cells": [
  {
   "cell_type": "markdown",
   "metadata": {},
   "source": [
    "### Delete all Project Artifacts"
   ]
  },
  {
   "cell_type": "code",
   "execution_count": null,
   "metadata": {},
   "outputs": [],
   "source": [
    "import json\n",
    "import boto3\n",
    "import sagemaker\n",
    "session = sagemaker.Session()\n",
    "\n",
    "\n",
    "# Grab admin resources (S3 Bucket name, IAM Roles and Docker Image for Training)\n",
    "with open('admin_setup.txt', 'r') as filehandle:\n",
    "    admin_setup = json.load(filehandle)\n",
    "\n",
    "workflow_name = admin_setup[\"workflow_name\"]\n",
    "region = session.boto_session.region_name\n",
    "account_id = boto3.client('sts').get_caller_identity().get('Account')"
   ]
  },
  {
   "cell_type": "code",
   "execution_count": null,
   "metadata": {},
   "outputs": [],
   "source": [
    "!aws s3 rb s3://{workflow_name}-datalake-{account_id} --force\n",
    "!aws s3 rb s3://{workflow_name}-project-{account_id} --force"
   ]
  },
  {
   "cell_type": "code",
   "execution_count": null,
   "metadata": {},
   "outputs": [],
   "source": [
    "!aws codecommit delete-repository --repository-name {workflow_name}"
   ]
  },
  {
   "cell_type": "code",
   "execution_count": null,
   "metadata": {},
   "outputs": [],
   "source": [
    "!aws lambda delete-function --function-name {workflow_name}-create-sagemaker-training-job\n",
    "!aws lambda delete-function --function-name {workflow_name}-query-data-processing-status\n",
    "!aws lambda delete-function --function-name {workflow_name}-create-sagemaker-prcoessing-job\n",
    "!aws lambda delete-function --function-name {workflow_name}-deploy-sagemaker-model-job\n",
    "!aws lambda delete-function --function-name {workflow_name}-query-model-accuracy\n",
    "!aws lambda delete-function --function-name {workflow_name}-codecommit-to-s3\n",
    "!aws lambda delete-function --function-name {workflow_name}-query-training-status"
   ]
  },
  {
   "cell_type": "code",
   "execution_count": null,
   "metadata": {},
   "outputs": [],
   "source": [
    "state_machine_arn = \"arn:aws:states:{}:{}:stateMachine:{}\".format(region, account_id, workflow_name)\n",
    "!aws stepfunctions delete-state-machine --state-machine-arn {state_machine_arn}"
   ]
  },
  {
   "cell_type": "code",
   "execution_count": null,
   "metadata": {},
   "outputs": [],
   "source": [
    "!aws sagemaker delete-endpoint --endpoint-name {workflow_name}"
   ]
  }
 ],
 "metadata": {
  "kernelspec": {
   "display_name": "conda_python3",
   "language": "python",
   "name": "conda_python3"
  },
  "language_info": {
   "codemirror_mode": {
    "name": "ipython",
    "version": 3
   },
   "file_extension": ".py",
   "mimetype": "text/x-python",
   "name": "python",
   "nbconvert_exporter": "python",
   "pygments_lexer": "ipython3",
   "version": "3.6.10"
  }
 },
 "nbformat": 4,
 "nbformat_minor": 4
}
